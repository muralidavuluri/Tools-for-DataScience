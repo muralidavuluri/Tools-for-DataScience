{
 "cells": [
  {
   "cell_type": "code",
   "execution_count": 156,
   "id": "22c9f2f5-95cb-498e-925b-28da99451cc5",
   "metadata": {},
   "outputs": [],
   "source": [
    "#The below is the Markdown cell that displays H1 Heaind to display text \"Data Science Tools and Ecosystem\""
   ]
  },
  {
   "cell_type": "markdown",
   "id": "24a870dc-29c6-4bb7-9612-7d5478909af2",
   "metadata": {},
   "source": [
    "# Data Science Tools and Ecosystem"
   ]
  },
  {
   "cell_type": "code",
   "execution_count": 158,
   "id": "ac4578fd-5186-4869-a49b-53ca1be7eedd",
   "metadata": {},
   "outputs": [],
   "source": [
    "#The below is the Markdown cell that displays H1 Heaind to display text title of the notebook \"DataScienceEcosystem\""
   ]
  },
  {
   "cell_type": "markdown",
   "id": "aff882de-baf7-45a5-a874-e2aae7d4d215",
   "metadata": {},
   "source": [
    "# DataScienceEcosystem"
   ]
  },
  {
   "cell_type": "code",
   "execution_count": 160,
   "id": "27e7307f-e9b4-42a7-a7b3-c1374c356200",
   "metadata": {},
   "outputs": [],
   "source": [
    "#Below is the MarkDown cell with an introductory sentence"
   ]
  },
  {
   "cell_type": "markdown",
   "id": "2a9b3f56-1ab3-407d-a302-24b2135db506",
   "metadata": {},
   "source": [
    "# In this notebook, Data Sciecnce Tools and Ecosystem are summarized."
   ]
  },
  {
   "cell_type": "markdown",
   "id": "466ac7aa-ce4a-4a4b-bf38-320917f06b49",
   "metadata": {},
   "source": [
    "**Objectives**\n",
    "- Python\n",
    "- R\n",
    "- SQL\n",
    "- Julia\n",
    "- Java"
   ]
  },
  {
   "cell_type": "code",
   "execution_count": 162,
   "id": "5731b1a5-dec9-4a73-a35f-8da9711b3586",
   "metadata": {},
   "outputs": [],
   "source": [
    "# Markdown cell to list data science languages"
   ]
  },
  {
   "cell_type": "markdown",
   "id": "73e88894-8ee5-4e9a-87ed-4c750b5d2f33",
   "metadata": {},
   "source": [
    "### Some of the popular languages that Data Scientists use are:\n",
    "1. Python\n",
    "2. R\n",
    "3. SQL\n",
    "4. Julia\n",
    "5. Java"
   ]
  },
  {
   "cell_type": "code",
   "execution_count": 164,
   "id": "fe5c2253-7467-4db0-9a00-f06079fcc636",
   "metadata": {},
   "outputs": [],
   "source": [
    "# Markdown cell to list data science libraries"
   ]
  },
  {
   "cell_type": "markdown",
   "id": "908347b4-9a84-4ba6-ac59-283b5882efe2",
   "metadata": {},
   "source": [
    "### Some of the commonly used libraries used by Data Scientists include:\n",
    "1. Pandas\n",
    "2. NumPy\n",
    "3. Matplotlib\n",
    "4. Plotly\n",
    "5. ggplot"
   ]
  },
  {
   "cell_type": "code",
   "execution_count": 166,
   "id": "cc10816a-8aae-45a1-af82-d7d1578a6e96",
   "metadata": {},
   "outputs": [],
   "source": [
    "#Markdown cell with table"
   ]
  },
  {
   "cell_type": "markdown",
   "id": "1e7d799f-7aeb-4c2a-8d09-d3831aeeb59f",
   "metadata": {},
   "source": [
    "| Data Science Tools |\n",
    "----------------------\n",
    "| Jupyter Notebook |\n",
    "| Jupyter Lab |\n",
    "| RStudio |\n"
   ]
  },
  {
   "cell_type": "code",
   "execution_count": 168,
   "id": "538e528b-90dc-4344-9b48-6343f79395cb",
   "metadata": {},
   "outputs": [],
   "source": [
    "# Markdown cell for Arithmetic expressions in Python"
   ]
  },
  {
   "cell_type": "markdown",
   "id": "346eb7c8-413e-46fd-95b9-276968433e01",
   "metadata": {},
   "source": [
    "### Below are a few examples of evaluating arithmetic expressions in Python\n",
    "- **Addition:**\n",
    "- result = (a+b)\n",
    "- **Subtraction:**\n",
    "- result = (x-y)\n",
    "- **Multiplication:**\n",
    "- result = (x*y)"
   ]
  },
  {
   "cell_type": "code",
   "execution_count": 170,
   "id": "929b911b-7ed8-47ab-9c65-4137bf1ff4e5",
   "metadata": {},
   "outputs": [],
   "source": [
    "# Code cell to multiply and add integers"
   ]
  },
  {
   "cell_type": "code",
   "execution_count": 171,
   "id": "4251cf14-a361-4ca6-8528-29ee491077e2",
   "metadata": {},
   "outputs": [
    {
     "data": {
      "text/plain": [
       "17"
      ]
     },
     "execution_count": 171,
     "metadata": {},
     "output_type": "execute_result"
    }
   ],
   "source": [
    "(3*4)+5"
   ]
  },
  {
   "cell_type": "code",
   "execution_count": 172,
   "id": "88dea432-2b5a-4076-9a6c-d617425a6e7d",
   "metadata": {},
   "outputs": [],
   "source": [
    "# Code cell to convert minutes to hours"
   ]
  },
  {
   "cell_type": "code",
   "execution_count": 173,
   "id": "8f6b2e6f-3487-4e54-ba35-fd8f602676a6",
   "metadata": {},
   "outputs": [
    {
     "name": "stdout",
     "output_type": "stream",
     "text": [
      "3.3333333333333335\n"
     ]
    }
   ],
   "source": [
    "minutes = 200\n",
    "hours = 200/60\n",
    "print(hours)"
   ]
  },
  {
   "cell_type": "markdown",
   "id": "1402e0ec-e778-42ff-8487-cbb8c2d3446a",
   "metadata": {},
   "source": [
    "## Author\n",
    "Murali Krishna Davuluri"
   ]
  }
 ],
 "metadata": {
  "kernelspec": {
   "display_name": "Python 3 (ipykernel)",
   "language": "python",
   "name": "python3"
  },
  "language_info": {
   "codemirror_mode": {
    "name": "ipython",
    "version": 3
   },
   "file_extension": ".py",
   "mimetype": "text/x-python",
   "name": "python",
   "nbconvert_exporter": "python",
   "pygments_lexer": "ipython3",
   "version": "3.12.4"
  }
 },
 "nbformat": 4,
 "nbformat_minor": 5
}
